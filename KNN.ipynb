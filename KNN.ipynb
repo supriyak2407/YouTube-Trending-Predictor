{
 "cells": [
  {
   "cell_type": "code",
   "execution_count": 1,
   "id": "2c7e383c",
   "metadata": {},
   "outputs": [],
   "source": [
    "#Data loading\n",
    "import pandas as pd\n",
    "dataset_with_null = pd.read_excel(\"C:\\\\Users\\\\91628\\\\Desktop\\\\smlprojectcleaneddataset (1).xlsx\")\n",
    "dataset_with_null['days_to_trend'] = dataset_with_null['trending_Date']-dataset_with_null['published_date']\n",
    "data_og = dataset_with_null.dropna()"
   ]
  },
  {
   "cell_type": "code",
   "execution_count": 2,
   "id": "274a3d77",
   "metadata": {},
   "outputs": [
    {
     "name": "stderr",
     "output_type": "stream",
     "text": [
      "[nltk_data] Downloading package stopwords to\n",
      "[nltk_data]     C:\\Users\\91628\\AppData\\Roaming\\nltk_data...\n",
      "[nltk_data]   Package stopwords is already up-to-date!\n"
     ]
    },
    {
     "data": {
      "text/plain": [
       "True"
      ]
     },
     "execution_count": 2,
     "metadata": {},
     "output_type": "execute_result"
    }
   ],
   "source": [
    "import nltk\n",
    "nltk.download('stopwords')"
   ]
  },
  {
   "cell_type": "code",
   "execution_count": 3,
   "id": "22be3e21",
   "metadata": {},
   "outputs": [],
   "source": [
    "import pandas as pd\n",
    "from nltk.corpus import stopwords\n",
    "from collections import Counter\n",
    "import re\n",
    "import string\n",
    "\n",
    "dataset = data_og\n",
    "def preprocess_text(text):\n",
    "    # Remove non-ASCII characters\n",
    "    text = ''.join([char for char in text if char in string.printable])\n",
    "    return text\n",
    "\n",
    "def remove_stopwords(text, stop_words):\n",
    "    words = text.split()\n",
    "    filtered_words = [word for word in words if word.lower() not in stop_words]\n",
    "    return ' '.join(filtered_words)\n",
    "\n",
    "def process_dataframe(dataset, stop_words):\n",
    "    # Apply preprocessing to the 'title' column\n",
    "    dataset['title'] = dataset['title'].apply(preprocess_text)\n",
    "\n",
    "    # Remove stopwords from the 'title' column\n",
    "    dataset['title'] = dataset['title'].apply(lambda x: remove_stopwords(x, stop_words))\n",
    "\n",
    "    return dataset\n",
    "\n",
    "stop_words = set(stopwords.words('english')) | {'|','1','2','3','4','5','6','7','8','9','0','vs','le','la','de','none'}\n",
    "dataset = process_dataframe(dataset, stop_words)"
   ]
  },
  {
   "cell_type": "code",
   "execution_count": 4,
   "id": "65848b9a",
   "metadata": {},
   "outputs": [],
   "source": [
    "#get frequencies of each word\n",
    "import pandas as pd\n",
    "from collections import Counter\n",
    "import re\n",
    "\n",
    "data_test = dataset[:100]\n",
    "\n",
    "def replace_with_word_frequencies(df, column_name):\n",
    "    # Combine all titles into a single string\n",
    "    all_titles = ' '.join(df[column_name].astype(str).tolist())\n",
    "\n",
    "    # Tokenize the text into words\n",
    "    words = re.findall(r'\\b\\w+\\b', all_titles.lower())\n",
    "\n",
    "    # Calculate word frequencies using Counter for the entire column\n",
    "    word_frequencies = Counter(words)\n",
    "\n",
    "    # Function to replace words with their total occurrences in the column\n",
    "    def replace_with_frequency(title):\n",
    "        title_words = re.findall(r'\\b\\w+\\b', str(title).lower())\n",
    "        frequencies = [word_frequencies[word] for word in title_words]\n",
    "        return frequencies\n",
    "\n",
    "    # Apply the function to the column and create a new column\n",
    "    new_column_name = f\"{column_name}_frequencies\"\n",
    "    df[new_column_name] = df[column_name].apply(replace_with_frequency)\n",
    "\n",
    "    return df\n",
    "\n",
    "\n",
    "# The function modifies the DataFrame in place, so there's no need for assignment\n",
    "dataset = replace_with_word_frequencies(dataset, 'title')"
   ]
  },
  {
   "cell_type": "code",
   "execution_count": 5,
   "id": "4dd5a2f4",
   "metadata": {},
   "outputs": [],
   "source": [
    "import pandas as pd\n",
    "from collections import Counter\n",
    "import re\n",
    "\n",
    "data_test = dataset[:100]\n",
    "\n",
    "def replace_with_word_frequencies(df, column_name):\n",
    "    # Combine all titles into a single string\n",
    "    all_titles = ' '.join(df[column_name].astype(str).tolist())\n",
    "\n",
    "    # Tokenize the text into words\n",
    "    words = re.findall(r'\\b\\w+\\b', all_titles.lower())\n",
    "\n",
    "    # Calculate word frequencies using Counter\n",
    "    word_frequencies = Counter(words)\n",
    "\n",
    "    # Function to replace words with their frequencies\n",
    "    def replace_with_frequency(title):\n",
    "        title_words = re.findall(r'\\b\\w+\\b', str(title).lower())\n",
    "        frequencies = [word_frequencies[word] for word in title_words]\n",
    "        return frequencies\n",
    "\n",
    "    # Apply the function to the column and create a new column\n",
    "    new_column_name = f\"{column_name}_frequencies\"\n",
    "    df[new_column_name] = df[column_name].apply(replace_with_frequency)\n",
    "\n",
    "    # Calculate the sum of word frequencies for each row\n",
    "    df[f'{column_name}_frequency_sum'] = df[new_column_name].apply(lambda x: sum(x))\n",
    "    #df[f'{column_name}_frequency_avg'] = df[new_column_name].apply(lambda x: sum(word_frequencies.get(word, 0) for word in re.findall(r'\\b\\w+\\b', ' '.join(map(str, x)).lower())) / len(re.findall(r'\\b\\w+\\b', ' '.join(map(str, x)).lower())) if len(re.findall(r'\\b\\w+\\b', ' '.join(map(str, x)).lower())) > 0 else 0)\n",
    "\n",
    "\n",
    "    return df\n",
    "\n",
    "dataset = replace_with_word_frequencies(dataset, 'title')"
   ]
  },
  {
   "cell_type": "code",
   "execution_count": 6,
   "id": "33d70dba",
   "metadata": {},
   "outputs": [],
   "source": [
    "import pandas as pd\n",
    "\n",
    "def add_tag_occurrence_list_column(df, column_name):\n",
    "    # Split the tags in each row and count their occurrences\n",
    "    all_tags = '|'.join(df[column_name]).split('|')\n",
    "    tag_counts = pd.Series(all_tags).value_counts()\n",
    "\n",
    "    # Function to get the total occurrence of a tag in the entire column\n",
    "    def get_tag_occurrence(tags):\n",
    "        tag_list = tags.split('|')\n",
    "        return [tag_counts.get(tag, 0) for tag in tag_list]\n",
    "\n",
    "    # Create a new column 'tag_occurrence_list' with the total occurrence of tags in each row\n",
    "    df['tag_frequency_list'] = df[column_name].apply(get_tag_occurrence)\n",
    "\n",
    "    # Modify 'tag_occurrence_list' to contain the sum of values in each list\n",
    "    df['tag_frequency_sum'] = df['tag_frequency_list'].apply(lambda x: sum(x))\n",
    "\n",
    "    return df\n",
    "\n",
    "# Call the function with your DataFrame and column name\n",
    "dataset = add_tag_occurrence_list_column(dataset, 'tags')"
   ]
  },
  {
   "cell_type": "code",
   "execution_count": 7,
   "id": "759862bf",
   "metadata": {},
   "outputs": [
    {
     "name": "stdout",
     "output_type": "stream",
     "text": [
      "<class 'pandas._libs.tslibs.timedeltas.Timedelta'>\n"
     ]
    },
    {
     "data": {
      "text/plain": [
       "numpy.int64"
      ]
     },
     "execution_count": 7,
     "metadata": {},
     "output_type": "execute_result"
    }
   ],
   "source": [
    "print(type(dataset['days_to_trend'][0]))\n",
    "dataset['days_to_trend'] = dataset['days_to_trend'].dt.days\n",
    "type(dataset['days_to_trend'][0])"
   ]
  },
  {
   "cell_type": "code",
   "execution_count": 8,
   "id": "f9faa391",
   "metadata": {},
   "outputs": [
    {
     "name": "stdout",
     "output_type": "stream",
     "text": [
      "Fitting 3 folds for each of 16 candidates, totalling 48 fits\n",
      "R^2 Score on Test Set: 0.7685946488776235\n",
      "Best Parameters: {'n_neighbors': 10, 'p': 1, 'weights': 'distance'}\n"
     ]
    }
   ],
   "source": [
    "import pandas as pd\n",
    "from sklearn.model_selection import train_test_split\n",
    "from sklearn.neighbors import KNeighborsRegressor\n",
    "from sklearn.metrics import mean_squared_error, r2_score\n",
    "from sklearn.model_selection import GridSearchCV\n",
    "\n",
    "\n",
    "# Define features and target\n",
    "features = ['likes', 'dislikes', 'comment_count', 'categoryId', 'title_frequency_sum', 'tag_frequency_sum', 'days_to_trend']\n",
    "target = 'view_count'\n",
    "\n",
    "# Create feature matrix (X) and target variable (y)\n",
    "X = dataset[features]\n",
    "y = dataset[target]\n",
    "\n",
    "# Split the data into training, tuning, and testing sets\n",
    "X_train, X_temp, y_train, y_temp = train_test_split(X, y, test_size=0.5, random_state=42)\n",
    "X_tune, X_test, y_tune, y_test = train_test_split(X_temp, y_temp, test_size=0.5, random_state=42)\n",
    "\n",
    "# Initialize KNN model\n",
    "knn_model = KNeighborsRegressor()\n",
    "\n",
    "# Define hyperparameter grid for tuning\n",
    "param_grid = {\n",
    "    'n_neighbors': [3, 5, 7, 10],  \n",
    "    'weights': ['uniform', 'distance'],\n",
    "    'p': [1, 2]  # 1 for Manhattan distance, 2 for Euclidean distance\n",
    "}\n",
    "\n",
    "# Use GridSearchCV for hyperparameter tuning with cross-validation\n",
    "grid_search = GridSearchCV(estimator=knn_model, param_grid=param_grid, scoring='neg_mean_squared_error', cv=3, verbose=2, n_jobs=-1)\n",
    "grid_search.fit(X_tune, y_tune)\n",
    "best_knn_model = grid_search.best_estimator_\n",
    "\n",
    "# Predict on the test set using the best model\n",
    "y_pred_test = best_knn_model.predict(X_test)\n",
    "\n",
    "# Evaluate the best model on the test set\n",
    "r2_test = r2_score(y_test, y_pred_test)\n",
    "\n",
    "print(f'R^2 Score on Test Set: {r2_test}')\n",
    "\n",
    "# Print the best parameters\n",
    "print(\"Best Parameters:\", grid_search.best_params_)\n"
   ]
  },
  {
   "cell_type": "code",
   "execution_count": null,
   "id": "219a4604",
   "metadata": {},
   "outputs": [],
   "source": [
    "KNN with scaling"
   ]
  },
  {
   "cell_type": "code",
   "execution_count": 10,
   "id": "67a4815d",
   "metadata": {},
   "outputs": [
    {
     "name": "stdout",
     "output_type": "stream",
     "text": [
      "Fitting 3 folds for each of 16 candidates, totalling 48 fits\n",
      "R^2 Score on Test Set: 0.8516168797358077\n",
      "Best Parameters: {'n_neighbors': 5, 'p': 1, 'weights': 'distance'}\n"
     ]
    }
   ],
   "source": [
    "import pandas as pd\n",
    "from sklearn.model_selection import train_test_split\n",
    "from sklearn.neighbors import KNeighborsRegressor\n",
    "from sklearn.metrics import mean_squared_error, r2_score\n",
    "from sklearn.model_selection import GridSearchCV\n",
    "from sklearn.preprocessing import StandardScaler\n",
    "\n",
    "\n",
    "# Define features and target\n",
    "features = ['likes', 'dislikes', 'comment_count', 'categoryId', 'title_frequency_sum', 'tag_frequency_sum', 'days_to_trend']\n",
    "target = 'view_count'\n",
    "\n",
    "# Create feature matrix (X) and target variable (y)\n",
    "X = dataset[features]\n",
    "y = dataset[target]\n",
    "\n",
    "# Split the data into training, tuning, and testing sets\n",
    "X_train, X_temp, y_train, y_temp = train_test_split(X, y, test_size=0.5, random_state=42)\n",
    "X_tune, X_test, y_tune, y_test = train_test_split(X_temp, y_temp, test_size=0.5, random_state=42)\n",
    "\n",
    "# Initialize KNN model\n",
    "knn_model = KNeighborsRegressor()\n",
    "\n",
    "# Feature Scaling\n",
    "scaler = StandardScaler()\n",
    "X_train_scaled = scaler.fit_transform(X_train)\n",
    "X_tune_scaled = scaler.transform(X_tune)\n",
    "X_test_scaled = scaler.transform(X_test)\n",
    "\n",
    "# Define hyperparameter grid for tuning\n",
    "param_grid = {\n",
    "    'n_neighbors': [3, 5, 7, 10], \n",
    "    'weights': ['uniform', 'distance'],\n",
    "    'p': [1, 2]  # 1 for Manhattan distance, 2 for Euclidean distance\n",
    "}\n",
    "\n",
    "# Use GridSearchCV for hyperparameter tuning with cross-validation\n",
    "grid_search = GridSearchCV(estimator=knn_model, param_grid=param_grid, scoring='neg_mean_squared_error', cv=3, verbose=2, n_jobs=-1)\n",
    "grid_search.fit(X_tune_scaled, y_tune)\n",
    "best_knn_model = grid_search.best_estimator_\n",
    "\n",
    "# Predict on the test set using the best model\n",
    "X_test_scaled = scaler.transform(X_test)  # Apply the same scaling to the test set\n",
    "y_pred_test = best_knn_model.predict(X_test_scaled)\n",
    "\n",
    "# Evaluate the best model on the test set\n",
    "r2_test = r2_score(y_test, y_pred_test)\n",
    "\n",
    "print(f'R^2 Score on Test Set: {r2_test}')\n",
    "\n",
    "# Print the best parameters\n",
    "print(\"Best Parameters:\", grid_search.best_params_)\n"
   ]
  },
  {
   "cell_type": "code",
   "execution_count": null,
   "id": "4018c9e7",
   "metadata": {},
   "outputs": [],
   "source": []
  }
 ],
 "metadata": {
  "kernelspec": {
   "display_name": "Python 3 (ipykernel)",
   "language": "python",
   "name": "python3"
  },
  "language_info": {
   "codemirror_mode": {
    "name": "ipython",
    "version": 3
   },
   "file_extension": ".py",
   "mimetype": "text/x-python",
   "name": "python",
   "nbconvert_exporter": "python",
   "pygments_lexer": "ipython3",
   "version": "3.10.5"
  }
 },
 "nbformat": 4,
 "nbformat_minor": 5
}
