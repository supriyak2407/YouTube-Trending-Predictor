{
 "cells": [
  {
   "cell_type": "code",
   "execution_count": 1,
   "id": "989a45ba",
   "metadata": {},
   "outputs": [],
   "source": [
    "#Data loading\n",
    "import pandas as pd\n",
    "dataset_with_null = pd.read_excel(\"C:\\\\Users\\\\91628\\\\Desktop\\\\smlprojectcleaneddataset (1).xlsx\")\n",
    "dataset_with_null['days_to_trend'] = dataset_with_null['trending_Date']-dataset_with_null['published_date']\n",
    "data_og = dataset_with_null.dropna()"
   ]
  },
  {
   "cell_type": "code",
   "execution_count": 2,
   "id": "93e32d09",
   "metadata": {},
   "outputs": [
    {
     "name": "stderr",
     "output_type": "stream",
     "text": [
      "[nltk_data] Downloading package stopwords to\n",
      "[nltk_data]     C:\\Users\\91628\\AppData\\Roaming\\nltk_data...\n",
      "[nltk_data]   Package stopwords is already up-to-date!\n"
     ]
    },
    {
     "data": {
      "text/plain": [
       "True"
      ]
     },
     "execution_count": 2,
     "metadata": {},
     "output_type": "execute_result"
    }
   ],
   "source": [
    "import nltk\n",
    "nltk.download('stopwords')"
   ]
  },
  {
   "cell_type": "code",
   "execution_count": 3,
   "id": "93ee6d46",
   "metadata": {},
   "outputs": [],
   "source": [
    "import pandas as pd\n",
    "from nltk.corpus import stopwords\n",
    "from collections import Counter\n",
    "import re\n",
    "import string\n",
    "\n",
    "dataset = data_og\n",
    "def preprocess_text(text):\n",
    "    # Remove non-ASCII characters\n",
    "    text = ''.join([char for char in text if char in string.printable])\n",
    "    return text\n",
    "\n",
    "def remove_stopwords(text, stop_words):\n",
    "    words = text.split()\n",
    "    filtered_words = [word for word in words if word.lower() not in stop_words]\n",
    "    return ' '.join(filtered_words)\n",
    "\n",
    "def process_dataframe(dataset, stop_words):\n",
    "    # Apply preprocessing to the 'title' column\n",
    "    dataset['title'] = dataset['title'].apply(preprocess_text)\n",
    "\n",
    "    # Remove stopwords from the 'title' column\n",
    "    dataset['title'] = dataset['title'].apply(lambda x: remove_stopwords(x, stop_words))\n",
    "\n",
    "    return dataset\n",
    "\n",
    "stop_words = set(stopwords.words('english')) | {'|','1','2','3','4','5','6','7','8','9','0','vs','le','la','de','none'}\n",
    "dataset = process_dataframe(dataset, stop_words)"
   ]
  },
  {
   "cell_type": "code",
   "execution_count": 4,
   "id": "758bdaf9",
   "metadata": {},
   "outputs": [],
   "source": [
    "#get frequencies of each word\n",
    "import pandas as pd\n",
    "from collections import Counter\n",
    "import re\n",
    "\n",
    "data_test = dataset[:100]\n",
    "\n",
    "def replace_with_word_frequencies(df, column_name):\n",
    "    # Combine all titles into a single string\n",
    "    all_titles = ' '.join(df[column_name].astype(str).tolist())\n",
    "\n",
    "    # Tokenize the text into words\n",
    "    words = re.findall(r'\\b\\w+\\b', all_titles.lower())\n",
    "\n",
    "    # Calculate word frequencies using Counter for the entire column\n",
    "    word_frequencies = Counter(words)\n",
    "\n",
    "    # Function to replace words with their total occurrences in the column\n",
    "    def replace_with_frequency(title):\n",
    "        title_words = re.findall(r'\\b\\w+\\b', str(title).lower())\n",
    "        frequencies = [word_frequencies[word] for word in title_words]\n",
    "        return frequencies\n",
    "\n",
    "    # Apply the function to the column and create a new column\n",
    "    new_column_name = f\"{column_name}_frequencies\"\n",
    "    df[new_column_name] = df[column_name].apply(replace_with_frequency)\n",
    "\n",
    "    return df\n",
    "\n",
    "\n",
    "# The function modifies the DataFrame in place, so there's no need for assignment\n",
    "dataset = replace_with_word_frequencies(dataset, 'title')"
   ]
  },
  {
   "cell_type": "code",
   "execution_count": 5,
   "id": "e7a4b62d",
   "metadata": {},
   "outputs": [],
   "source": [
    "import pandas as pd\n",
    "from collections import Counter\n",
    "import re\n",
    "\n",
    "data_test = dataset[:100]\n",
    "\n",
    "def replace_with_word_frequencies(df, column_name):\n",
    "    # Combine all titles into a single string\n",
    "    all_titles = ' '.join(df[column_name].astype(str).tolist())\n",
    "\n",
    "    # Tokenize the text into words\n",
    "    words = re.findall(r'\\b\\w+\\b', all_titles.lower())\n",
    "\n",
    "    # Calculate word frequencies using Counter\n",
    "    word_frequencies = Counter(words)\n",
    "\n",
    "    # Function to replace words with their frequencies\n",
    "    def replace_with_frequency(title):\n",
    "        title_words = re.findall(r'\\b\\w+\\b', str(title).lower())\n",
    "        frequencies = [word_frequencies[word] for word in title_words]\n",
    "        return frequencies\n",
    "\n",
    "    # Apply the function to the column and create a new column\n",
    "    new_column_name = f\"{column_name}_frequencies\"\n",
    "    df[new_column_name] = df[column_name].apply(replace_with_frequency)\n",
    "\n",
    "    # Calculate the sum of word frequencies for each row\n",
    "    df[f'{column_name}_frequency_sum'] = df[new_column_name].apply(lambda x: sum(x))\n",
    "    \n",
    "\n",
    "    return df\n",
    "\n",
    "dataset = replace_with_word_frequencies(dataset, 'title')"
   ]
  },
  {
   "cell_type": "code",
   "execution_count": 6,
   "id": "658b6c59",
   "metadata": {},
   "outputs": [],
   "source": [
    "import pandas as pd\n",
    "\n",
    "def add_tag_occurrence_list_column(df, column_name):\n",
    "    # Split the tags in each row and count their occurrences\n",
    "    all_tags = '|'.join(df[column_name]).split('|')\n",
    "    tag_counts = pd.Series(all_tags).value_counts()\n",
    "\n",
    "    # Function to get the total occurrence of a tag in the entire column\n",
    "    def get_tag_occurrence(tags):\n",
    "        tag_list = tags.split('|')\n",
    "        return [tag_counts.get(tag, 0) for tag in tag_list]\n",
    "\n",
    "    # Create a new column 'tag_occurrence_list' with the total occurrence of tags in each row\n",
    "    df['tag_frequency_list'] = df[column_name].apply(get_tag_occurrence)\n",
    "\n",
    "    # Modify 'tag_occurrence_list' to contain the sum of values in each list\n",
    "    df['tag_frequency_sum'] = df['tag_frequency_list'].apply(lambda x: sum(x))\n",
    "\n",
    "    return df\n",
    "\n",
    "# Call the function with your DataFrame and column name\n",
    "dataset = add_tag_occurrence_list_column(dataset, 'tags')"
   ]
  },
  {
   "cell_type": "code",
   "execution_count": 7,
   "id": "f237a6e8",
   "metadata": {},
   "outputs": [
    {
     "name": "stdout",
     "output_type": "stream",
     "text": [
      "<class 'pandas._libs.tslibs.timedeltas.Timedelta'>\n"
     ]
    },
    {
     "data": {
      "text/plain": [
       "numpy.int64"
      ]
     },
     "execution_count": 7,
     "metadata": {},
     "output_type": "execute_result"
    }
   ],
   "source": [
    "print(type(dataset['days_to_trend'][0]))\n",
    "dataset['days_to_trend'] = dataset['days_to_trend'].dt.days\n",
    "type(dataset['days_to_trend'][0])"
   ]
  },
  {
   "cell_type": "code",
   "execution_count": 8,
   "id": "cae93e3b",
   "metadata": {},
   "outputs": [
    {
     "data": {
      "text/html": [
       "<style>#sk-container-id-1 {color: black;}#sk-container-id-1 pre{padding: 0;}#sk-container-id-1 div.sk-toggleable {background-color: white;}#sk-container-id-1 label.sk-toggleable__label {cursor: pointer;display: block;width: 100%;margin-bottom: 0;padding: 0.3em;box-sizing: border-box;text-align: center;}#sk-container-id-1 label.sk-toggleable__label-arrow:before {content: \"▸\";float: left;margin-right: 0.25em;color: #696969;}#sk-container-id-1 label.sk-toggleable__label-arrow:hover:before {color: black;}#sk-container-id-1 div.sk-estimator:hover label.sk-toggleable__label-arrow:before {color: black;}#sk-container-id-1 div.sk-toggleable__content {max-height: 0;max-width: 0;overflow: hidden;text-align: left;background-color: #f0f8ff;}#sk-container-id-1 div.sk-toggleable__content pre {margin: 0.2em;color: black;border-radius: 0.25em;background-color: #f0f8ff;}#sk-container-id-1 input.sk-toggleable__control:checked~div.sk-toggleable__content {max-height: 200px;max-width: 100%;overflow: auto;}#sk-container-id-1 input.sk-toggleable__control:checked~label.sk-toggleable__label-arrow:before {content: \"▾\";}#sk-container-id-1 div.sk-estimator input.sk-toggleable__control:checked~label.sk-toggleable__label {background-color: #d4ebff;}#sk-container-id-1 div.sk-label input.sk-toggleable__control:checked~label.sk-toggleable__label {background-color: #d4ebff;}#sk-container-id-1 input.sk-hidden--visually {border: 0;clip: rect(1px 1px 1px 1px);clip: rect(1px, 1px, 1px, 1px);height: 1px;margin: -1px;overflow: hidden;padding: 0;position: absolute;width: 1px;}#sk-container-id-1 div.sk-estimator {font-family: monospace;background-color: #f0f8ff;border: 1px dotted black;border-radius: 0.25em;box-sizing: border-box;margin-bottom: 0.5em;}#sk-container-id-1 div.sk-estimator:hover {background-color: #d4ebff;}#sk-container-id-1 div.sk-parallel-item::after {content: \"\";width: 100%;border-bottom: 1px solid gray;flex-grow: 1;}#sk-container-id-1 div.sk-label:hover label.sk-toggleable__label {background-color: #d4ebff;}#sk-container-id-1 div.sk-serial::before {content: \"\";position: absolute;border-left: 1px solid gray;box-sizing: border-box;top: 0;bottom: 0;left: 50%;z-index: 0;}#sk-container-id-1 div.sk-serial {display: flex;flex-direction: column;align-items: center;background-color: white;padding-right: 0.2em;padding-left: 0.2em;position: relative;}#sk-container-id-1 div.sk-item {position: relative;z-index: 1;}#sk-container-id-1 div.sk-parallel {display: flex;align-items: stretch;justify-content: center;background-color: white;position: relative;}#sk-container-id-1 div.sk-item::before, #sk-container-id-1 div.sk-parallel-item::before {content: \"\";position: absolute;border-left: 1px solid gray;box-sizing: border-box;top: 0;bottom: 0;left: 50%;z-index: -1;}#sk-container-id-1 div.sk-parallel-item {display: flex;flex-direction: column;z-index: 1;position: relative;background-color: white;}#sk-container-id-1 div.sk-parallel-item:first-child::after {align-self: flex-end;width: 50%;}#sk-container-id-1 div.sk-parallel-item:last-child::after {align-self: flex-start;width: 50%;}#sk-container-id-1 div.sk-parallel-item:only-child::after {width: 0;}#sk-container-id-1 div.sk-dashed-wrapped {border: 1px dashed gray;margin: 0 0.4em 0.5em 0.4em;box-sizing: border-box;padding-bottom: 0.4em;background-color: white;}#sk-container-id-1 div.sk-label label {font-family: monospace;font-weight: bold;display: inline-block;line-height: 1.2em;}#sk-container-id-1 div.sk-label-container {text-align: center;}#sk-container-id-1 div.sk-container {/* jupyter's `normalize.less` sets `[hidden] { display: none; }` but bootstrap.min.css set `[hidden] { display: none !important; }` so we also need the `!important` here to be able to override the default hidden behavior on the sphinx rendered scikit-learn.org. See: https://github.com/scikit-learn/scikit-learn/issues/21755 */display: inline-block !important;position: relative;}#sk-container-id-1 div.sk-text-repr-fallback {display: none;}</style><div id=\"sk-container-id-1\" class=\"sk-top-container\"><div class=\"sk-text-repr-fallback\"><pre>DecisionTreeRegressor()</pre><b>In a Jupyter environment, please rerun this cell to show the HTML representation or trust the notebook. <br />On GitHub, the HTML representation is unable to render, please try loading this page with nbviewer.org.</b></div><div class=\"sk-container\" hidden><div class=\"sk-item\"><div class=\"sk-estimator sk-toggleable\"><input class=\"sk-toggleable__control sk-hidden--visually\" id=\"sk-estimator-id-1\" type=\"checkbox\" checked><label for=\"sk-estimator-id-1\" class=\"sk-toggleable__label sk-toggleable__label-arrow\">DecisionTreeRegressor</label><div class=\"sk-toggleable__content\"><pre>DecisionTreeRegressor()</pre></div></div></div></div></div>"
      ],
      "text/plain": [
       "DecisionTreeRegressor()"
      ]
     },
     "execution_count": 8,
     "metadata": {},
     "output_type": "execute_result"
    }
   ],
   "source": [
    "import pandas as pd\n",
    "from sklearn.model_selection import train_test_split\n",
    "from sklearn.tree import DecisionTreeRegressor\n",
    "from sklearn.metrics import mean_squared_error, r2_score\n",
    "\n",
    "\n",
    "features = ['likes', 'dislikes', 'comment_count', 'categoryId','title_frequency_sum','tag_frequency_sum','days_to_trend']\n",
    "target = 'view_count'\n",
    "X = dataset[features]\n",
    "y = dataset[target]\n",
    "X_train, X_temp, y_train, y_temp = train_test_split(X, y, test_size=0.5, random_state=42)\n",
    "X_tune, X_test, y_tune, y_test = train_test_split(X_temp, y_temp, test_size=0.5, random_state=42)\n",
    "dt_model = DecisionTreeRegressor()\n",
    "\n",
    "# Fit the model to the training data\n",
    "dt_model.fit(X_train, y_train)"
   ]
  },
  {
   "cell_type": "code",
   "execution_count": 9,
   "id": "814dc325",
   "metadata": {},
   "outputs": [
    {
     "name": "stdout",
     "output_type": "stream",
     "text": [
      "Fitting 3 folds for each of 81 candidates, totalling 243 fits\n",
      "R^2 Score on Test Set: 0.927\n"
     ]
    }
   ],
   "source": [
    "import pandas as pd\n",
    "from sklearn.model_selection import train_test_split\n",
    "from sklearn.ensemble import RandomForestRegressor\n",
    "from sklearn.metrics import mean_squared_error, r2_score\n",
    "from sklearn.preprocessing import StandardScaler\n",
    "from sklearn.model_selection import GridSearchCV\n",
    "\n",
    "\n",
    "rf_model = RandomForestRegressor(random_state=42)\n",
    "\n",
    "# Hyperparameter tuning using GridSearchCV\n",
    "param_grid = {\n",
    "    'n_estimators': [50, 100, 150],\n",
    "    'max_depth': [None, 10, 20],\n",
    "    'min_samples_split': [2, 5, 10],\n",
    "    'min_samples_leaf': [1, 2, 4]\n",
    "}\n",
    "\n",
    "grid_search = GridSearchCV(estimator=rf_model, param_grid=param_grid, scoring='neg_mean_squared_error', cv=3, verbose=2, n_jobs=-1)\n",
    "grid_search.fit(X_tune, y_tune)\n",
    "\n",
    "# Get the best parameters from the grid search\n",
    "best_params = grid_search.best_params_\n",
    "\n",
    "# Train the Random Forest model with the best parameters\n",
    "final_rf_model = RandomForestRegressor(random_state=42, **best_params)\n",
    "final_rf_model.fit(X_train, y_train)\n",
    "\n",
    "# Make predictions on the test set\n",
    "y_pred = final_rf_model.predict(X_test)\n",
    "\n",
    "# Evaluate the model\n",
    "r2 = r2_score(y_test, y_pred)\n",
    "\n",
    "print(f'R^2 Score on Test Set: {r2:.3f}')"
   ]
  },
  {
   "cell_type": "code",
   "execution_count": 10,
   "id": "0b432cf3",
   "metadata": {},
   "outputs": [
    {
     "name": "stdout",
     "output_type": "stream",
     "text": [
      "R^2 Score on Tune Set: 0.9158958895836634\n",
      "R^2 Score on Test Set: 0.920137602392218\n"
     ]
    }
   ],
   "source": [
    "#without tuning\n",
    "import pandas as pd\n",
    "from sklearn.model_selection import train_test_split\n",
    "from xgboost import XGBRegressor\n",
    "from sklearn.metrics import mean_squared_error, r2_score\n",
    "\n",
    "\n",
    "# Define features (X) and target variable (y)\n",
    "x = ['likes', 'dislikes', 'comment_count', 'categoryId','title_frequency_sum','tag_frequency_sum','days_to_trend']\n",
    "y = dataset['view_count']\n",
    "X = dataset[x]\n",
    "\n",
    "# Split the data into train and test sets\n",
    "X_train, X_test, y_train, y_test = train_test_split(X, y, test_size=0.25, random_state=42)\n",
    "\n",
    "# Further split the training set into train and tune sets\n",
    "X_train, X_tune, y_train, y_tune = train_test_split(X_train, y_train, test_size=0.33, random_state=42)\n",
    "\n",
    "# Initialize XGBoost regressor\n",
    "xgb_model = XGBRegressor()\n",
    "\n",
    "# Fit the model to the training data\n",
    "xgb_model.fit(X_train, y_train)\n",
    "\n",
    "# Make predictions on the tune set\n",
    "y_tune_pred = xgb_model.predict(X_tune)\n",
    "\n",
    "# Evaluate the model on the tune set\n",
    "r2_tune = r2_score(y_tune, y_tune_pred)\n",
    "\n",
    "print(f\"R^2 Score on Tune Set: {r2_tune}\")\n",
    "\n",
    "# Make predictions on the test set\n",
    "y_test_pred = xgb_model.predict(X_test)\n",
    "\n",
    "# Evaluate the model on the test set\n",
    "r2_test = r2_score(y_test, y_test_pred)\n",
    "\n",
    "print(f\"R^2 Score on Test Set: {r2_test}\")"
   ]
  },
  {
   "cell_type": "code",
   "execution_count": 11,
   "id": "4ce606a3",
   "metadata": {},
   "outputs": [
    {
     "name": "stdout",
     "output_type": "stream",
     "text": [
      "Best Parameters: {'colsample_bytree': 1.0, 'learning_rate': 0.2, 'max_depth': 5, 'n_estimators': 300, 'subsample': 0.9}\n",
      "R^2 Score on Test Set: 0.9304894477646157\n"
     ]
    }
   ],
   "source": [
    "import pandas as pd\n",
    "from sklearn.model_selection import train_test_split, GridSearchCV\n",
    "from xgboost import XGBRegressor\n",
    "from sklearn.metrics import mean_squared_error, r2_score\n",
    "\n",
    "\n",
    "# Define features (X) and target variable (y)\n",
    "x = ['likes', 'dislikes', 'comment_count', 'categoryId','title_frequency_sum','tag_frequency_sum','days_to_trend']\n",
    "\n",
    "y = dataset['view_count']\n",
    "X = dataset[x]\n",
    "\n",
    "# Split the data into train and test sets\n",
    "X_train, X_test, y_train, y_test = train_test_split(X, y, test_size=0.25, random_state=42)\n",
    "\n",
    "# Further split the training set into train and tune sets\n",
    "X_train, X_tune, y_train, y_tune = train_test_split(X_train, y_train, test_size=0.33, random_state=42)\n",
    "\n",
    "# Initialize XGBoost regressor\n",
    "xgb_model = XGBRegressor()\n",
    "\n",
    "# Define hyperparameter grid for tuning\n",
    "param_grid = {\n",
    "\n",
    "    'n_estimators': [100, 200, 300],\n",
    "    'learning_rate': [0.01, 0.1, 0.2],\n",
    "    'max_depth': [3, 4, 5],\n",
    "    'subsample': [0.8, 0.9, 1.0],\n",
    "    'colsample_bytree': [0.8, 0.9, 1.0],\n",
    "\n",
    "}\n",
    "\n",
    "# Create GridSearchCV object\n",
    "grid_search = GridSearchCV(estimator=xgb_model, param_grid=param_grid, scoring='neg_mean_squared_error', cv=5)\n",
    "\n",
    "# Fit the grid search to the data\n",
    "grid_search.fit(X_train, y_train)\n",
    "\n",
    "# Get the best parameters from the grid search\n",
    "best_params = grid_search.best_params_\n",
    "\n",
    "# Use the best parameters to create a tuned XGBoost model\n",
    "tuned_xgb_model = XGBRegressor(**best_params)\n",
    "\n",
    "# Fit the tuned model to the training data\n",
    "tuned_xgb_model.fit(X_train, y_train)\n",
    "\n",
    "# Make predictions on the test set\n",
    "y_test_pred = tuned_xgb_model.predict(X_test)\n",
    "\n",
    "# Evaluate the model on the test set\n",
    "r2_test = r2_score(y_test, y_test_pred)\n",
    "\n",
    "print(f\"Best Parameters: {best_params}\")\n",
    "print(f\"R^2 Score on Test Set: {r2_test}\")\n"
   ]
  }
 ],
 "metadata": {
  "kernelspec": {
   "display_name": "Python 3 (ipykernel)",
   "language": "python",
   "name": "python3"
  },
  "language_info": {
   "codemirror_mode": {
    "name": "ipython",
    "version": 3
   },
   "file_extension": ".py",
   "mimetype": "text/x-python",
   "name": "python",
   "nbconvert_exporter": "python",
   "pygments_lexer": "ipython3",
   "version": "3.11.5"
  }
 },
 "nbformat": 4,
 "nbformat_minor": 5
}
