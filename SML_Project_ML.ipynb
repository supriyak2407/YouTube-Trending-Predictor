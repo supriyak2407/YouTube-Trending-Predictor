{
  "nbformat": 4,
  "nbformat_minor": 0,
  "metadata": {
    "colab": {
      "provenance": []
    },
    "kernelspec": {
      "name": "python3",
      "display_name": "Python 3"
    },
    "language_info": {
      "name": "python"
    }
  },
  "cells": [
    {
      "cell_type": "code",
      "execution_count": 1,
      "metadata": {
        "colab": {
          "base_uri": "https://localhost:8080/"
        },
        "id": "4ery-jdw-0K-",
        "outputId": "b8b2cf75-b2f6-4aec-daa2-dee3c2b7a7c6"
      },
      "outputs": [
        {
          "output_type": "stream",
          "name": "stdout",
          "text": [
            "Mounted at /content/drive\n"
          ]
        }
      ],
      "source": [
        "from google.colab import drive\n",
        "\n",
        "# Mount your Google Drive\n",
        "drive.mount('/content/drive')\n",
        "\n",
        "# Access your file\n",
        "path = '/content/drive/My Drive/ColabNotebooks/SML_Project/smlprojectcleaneddataset.xlsx'"
      ]
    },
    {
      "cell_type": "code",
      "source": [
        "#Data loading for ML models\n",
        "import pandas as pd\n",
        "dataset_with_null = pd.read_excel(path)\n",
        "dataset_with_null['days_to_trend'] = dataset_with_null['trending_Date']-dataset_with_null['published_date']\n",
        "data_og = dataset_with_null.dropna()"
      ],
      "metadata": {
        "id": "EsP36zUPqyHE"
      },
      "execution_count": 3,
      "outputs": []
    },
    {
      "cell_type": "code",
      "source": [
        "#data preprocessing for ML models\n",
        "import pandas as pd\n",
        "from nltk.corpus import stopwords\n",
        "from collections import Counter\n",
        "import re\n",
        "import string\n",
        "\n",
        "import nltk\n",
        "nltk.download('stopwords')\n",
        "\n",
        "dataset = data_og\n",
        "def preprocess_text(text):\n",
        "    # Remove non-ASCII characters\n",
        "    text = ''.join([char for char in text if char in string.printable])\n",
        "    return text\n",
        "\n",
        "def remove_stopwords(text, stop_words):\n",
        "    words = text.split()\n",
        "    filtered_words = [word for word in words if word.lower() not in stop_words]\n",
        "    return ' '.join(filtered_words)\n",
        "\n",
        "def process_dataframe(dataset, stop_words):\n",
        "    # Apply preprocessing to the 'title' column\n",
        "    dataset['title'] = dataset['title'].apply(preprocess_text)\n",
        "\n",
        "    # Remove stopwords from the 'title' column\n",
        "    dataset['title'] = dataset['title'].apply(lambda x: remove_stopwords(x, stop_words))\n",
        "\n",
        "    return dataset\n",
        "\n",
        "stop_words = set(stopwords.words('english')) | {'|','1','2','3','4','5','6','7','8','9','0','vs','le','la','de','none'}\n",
        "dataset = process_dataframe(dataset, stop_words)"
      ],
      "metadata": {
        "id": "ImlLIMN8_ae-"
      },
      "execution_count": 5,
      "outputs": []
    },
    {
      "cell_type": "code",
      "source": [
        "#Data preprocessing for ML model\n",
        "#get frequencies of each word in 'title'\n",
        "\n",
        "import pandas as pd\n",
        "from collections import Counter\n",
        "import re\n",
        "\n",
        "data_test = dataset[:100]\n",
        "\n",
        "def replace_with_word_frequencies(df, column_name):\n",
        "    # Combine all titles into a single string\n",
        "    all_titles = ' '.join(df[column_name].astype(str).tolist())\n",
        "\n",
        "    # Tokenize the text into words\n",
        "    words = re.findall(r'\\b\\w+\\b', all_titles.lower())\n",
        "\n",
        "    # Calculate word frequencies using Counter for the entire column\n",
        "    word_frequencies = Counter(words)\n",
        "\n",
        "    # Function to replace words with their total occurrences in the column\n",
        "    def replace_with_frequency(title):\n",
        "        title_words = re.findall(r'\\b\\w+\\b', str(title).lower())\n",
        "        frequencies = [word_frequencies[word] for word in title_words]\n",
        "        return frequencies\n",
        "\n",
        "    # Apply the function to the column and create a new column\n",
        "    new_column_name = f\"{column_name}_frequencies\"\n",
        "    df[new_column_name] = df[column_name].apply(replace_with_frequency)\n",
        "\n",
        "    return df\n",
        "\n",
        "\n",
        "# The function modifies the DataFrame in place, so there's no need for assignment\n",
        "dataset = replace_with_word_frequencies(dataset, 'title')"
      ],
      "metadata": {
        "id": "Zd8O_ywdPMp5"
      },
      "execution_count": 6,
      "outputs": []
    },
    {
      "cell_type": "code",
      "source": [
        "#Data preprocessing for ML model\n",
        "#get sum of frequencies of each word in 'title'\n",
        "\n",
        "import pandas as pd\n",
        "from collections import Counter\n",
        "import re\n",
        "\n",
        "\n",
        "def replace_with_word_frequencies(df, column_name):\n",
        "    # Combine all titles into a single string\n",
        "    all_titles = ' '.join(df[column_name].astype(str).tolist())\n",
        "\n",
        "    # Tokenize the text into words\n",
        "    words = re.findall(r'\\b\\w+\\b', all_titles.lower())\n",
        "\n",
        "    # Calculate word frequencies using Counter\n",
        "    word_frequencies = Counter(words)\n",
        "\n",
        "    # Function to replace words with their frequencies\n",
        "    def replace_with_frequency(title):\n",
        "        title_words = re.findall(r'\\b\\w+\\b', str(title).lower())\n",
        "        frequencies = [word_frequencies[word] for word in title_words]\n",
        "        return frequencies\n",
        "\n",
        "    # Apply the function to the column and create a new column\n",
        "    new_column_name = f\"{column_name}_frequencies\"\n",
        "    df[new_column_name] = df[column_name].apply(replace_with_frequency)\n",
        "\n",
        "    # Calculate the sum of word frequencies for each row\n",
        "    df[f'{column_name}_frequency_sum'] = df[new_column_name].apply(lambda x: sum(x))\n",
        "    #df[f'{column_name}_frequency_avg'] = df[new_column_name].apply(lambda x: sum(word_frequencies.get(word, 0) for word in re.findall(r'\\b\\w+\\b', ' '.join(map(str, x)).lower())) / len(re.findall(r'\\b\\w+\\b', ' '.join(map(str, x)).lower())) if len(re.findall(r'\\b\\w+\\b', ' '.join(map(str, x)).lower())) > 0 else 0)\n",
        "\n",
        "\n",
        "    return df\n",
        "\n",
        "# Replace 'your_dataframe' and 'title' with your actual DataFrame and column name\n",
        "# The function modifies the DataFrame in place, so there's no need for assignment\n",
        "dataset = replace_with_word_frequencies(dataset, 'title')"
      ],
      "metadata": {
        "id": "8mLD0iPTzG_d"
      },
      "execution_count": 7,
      "outputs": []
    },
    {
      "cell_type": "code",
      "source": [
        "#Data preprocessing for ML model\n",
        "#get sum of frequencies of each tag in 'tags'\n",
        "\n",
        "import pandas as pd\n",
        "\n",
        "def add_tag_occurrence_list_column(df, column_name):\n",
        "    # Split the tags in each row and count their occurrences\n",
        "    all_tags = '|'.join(df[column_name]).split('|')\n",
        "    tag_counts = pd.Series(all_tags).value_counts()\n",
        "\n",
        "    # Function to get the total occurrence of a tag in the entire column\n",
        "    def get_tag_occurrence(tags):\n",
        "        tag_list = tags.split('|')\n",
        "        return [tag_counts.get(tag, 0) for tag in tag_list]\n",
        "\n",
        "    # Create a new column 'tag_occurrence_list' with the total occurrence of tags in each row\n",
        "    df['tag_frequency_list'] = df[column_name].apply(get_tag_occurrence)\n",
        "\n",
        "    # Modify 'tag_occurrence_list' to contain the sum of values in each list\n",
        "    df['tag_frequency_sum'] = df['tag_frequency_list'].apply(lambda x: sum(x))\n",
        "\n",
        "    return df\n",
        "\n",
        "# Call the function with your DataFrame and column name\n",
        "dataset = add_tag_occurrence_list_column(dataset, 'tags')"
      ],
      "metadata": {
        "id": "0ULT_jllY_fx"
      },
      "execution_count": 8,
      "outputs": []
    },
    {
      "cell_type": "code",
      "source": [
        "#preprocess dataset for ML model\n",
        "print(type(dataset['days_to_trend'][0]))\n",
        "dataset['days_to_trend'] = dataset['days_to_trend'].dt.days"
      ],
      "metadata": {
        "colab": {
          "base_uri": "https://localhost:8080/"
        },
        "id": "T68iF1_9xvnj",
        "outputId": "d5d83004-22ba-485b-ed5f-bd624690ac8e"
      },
      "execution_count": 10,
      "outputs": [
        {
          "output_type": "stream",
          "name": "stdout",
          "text": [
            "<class 'pandas._libs.tslibs.timedeltas.Timedelta'>\n"
          ]
        },
        {
          "output_type": "execute_result",
          "data": {
            "text/plain": [
              "numpy.int64"
            ]
          },
          "metadata": {},
          "execution_count": 10
        }
      ]
    },
    {
      "cell_type": "code",
      "source": [
        "#fitting decision trees\n",
        "\n",
        "import pandas as pd\n",
        "from sklearn.model_selection import train_test_split\n",
        "from sklearn.tree import DecisionTreeRegressor\n",
        "from sklearn.metrics import mean_squared_error, r2_score\n",
        "\n",
        "\n",
        "features = ['likes', 'dislikes', 'comment_count', 'categoryId','title_frequency_sum','tag_frequency_sum','days_to_trend']\n",
        "target = 'view_count'\n",
        "X = dataset[features]\n",
        "y = dataset[target]\n",
        "X_train, X_temp, y_train, y_temp = train_test_split(X, y, test_size=0.5, random_state=42)\n",
        "X_tune, X_test, y_tune, y_test = train_test_split(X_temp, y_temp, test_size=0.5, random_state=42)\n",
        "dt_model = DecisionTreeRegressor()\n",
        "\n",
        "# Fit the model to the training data\n",
        "dt_model.fit(X_train, y_train)"
      ],
      "metadata": {
        "colab": {
          "base_uri": "https://localhost:8080/",
          "height": 77
        },
        "id": "PN8KJonK1fVC",
        "outputId": "032bfb01-3f90-47a1-bbb5-fdc02553b0fc"
      },
      "execution_count": 11,
      "outputs": [
        {
          "output_type": "execute_result",
          "data": {
            "text/plain": [
              "DecisionTreeRegressor()"
            ],
            "text/html": [
              "<style>#sk-container-id-1 {color: black;background-color: white;}#sk-container-id-1 pre{padding: 0;}#sk-container-id-1 div.sk-toggleable {background-color: white;}#sk-container-id-1 label.sk-toggleable__label {cursor: pointer;display: block;width: 100%;margin-bottom: 0;padding: 0.3em;box-sizing: border-box;text-align: center;}#sk-container-id-1 label.sk-toggleable__label-arrow:before {content: \"▸\";float: left;margin-right: 0.25em;color: #696969;}#sk-container-id-1 label.sk-toggleable__label-arrow:hover:before {color: black;}#sk-container-id-1 div.sk-estimator:hover label.sk-toggleable__label-arrow:before {color: black;}#sk-container-id-1 div.sk-toggleable__content {max-height: 0;max-width: 0;overflow: hidden;text-align: left;background-color: #f0f8ff;}#sk-container-id-1 div.sk-toggleable__content pre {margin: 0.2em;color: black;border-radius: 0.25em;background-color: #f0f8ff;}#sk-container-id-1 input.sk-toggleable__control:checked~div.sk-toggleable__content {max-height: 200px;max-width: 100%;overflow: auto;}#sk-container-id-1 input.sk-toggleable__control:checked~label.sk-toggleable__label-arrow:before {content: \"▾\";}#sk-container-id-1 div.sk-estimator input.sk-toggleable__control:checked~label.sk-toggleable__label {background-color: #d4ebff;}#sk-container-id-1 div.sk-label input.sk-toggleable__control:checked~label.sk-toggleable__label {background-color: #d4ebff;}#sk-container-id-1 input.sk-hidden--visually {border: 0;clip: rect(1px 1px 1px 1px);clip: rect(1px, 1px, 1px, 1px);height: 1px;margin: -1px;overflow: hidden;padding: 0;position: absolute;width: 1px;}#sk-container-id-1 div.sk-estimator {font-family: monospace;background-color: #f0f8ff;border: 1px dotted black;border-radius: 0.25em;box-sizing: border-box;margin-bottom: 0.5em;}#sk-container-id-1 div.sk-estimator:hover {background-color: #d4ebff;}#sk-container-id-1 div.sk-parallel-item::after {content: \"\";width: 100%;border-bottom: 1px solid gray;flex-grow: 1;}#sk-container-id-1 div.sk-label:hover label.sk-toggleable__label {background-color: #d4ebff;}#sk-container-id-1 div.sk-serial::before {content: \"\";position: absolute;border-left: 1px solid gray;box-sizing: border-box;top: 0;bottom: 0;left: 50%;z-index: 0;}#sk-container-id-1 div.sk-serial {display: flex;flex-direction: column;align-items: center;background-color: white;padding-right: 0.2em;padding-left: 0.2em;position: relative;}#sk-container-id-1 div.sk-item {position: relative;z-index: 1;}#sk-container-id-1 div.sk-parallel {display: flex;align-items: stretch;justify-content: center;background-color: white;position: relative;}#sk-container-id-1 div.sk-item::before, #sk-container-id-1 div.sk-parallel-item::before {content: \"\";position: absolute;border-left: 1px solid gray;box-sizing: border-box;top: 0;bottom: 0;left: 50%;z-index: -1;}#sk-container-id-1 div.sk-parallel-item {display: flex;flex-direction: column;z-index: 1;position: relative;background-color: white;}#sk-container-id-1 div.sk-parallel-item:first-child::after {align-self: flex-end;width: 50%;}#sk-container-id-1 div.sk-parallel-item:last-child::after {align-self: flex-start;width: 50%;}#sk-container-id-1 div.sk-parallel-item:only-child::after {width: 0;}#sk-container-id-1 div.sk-dashed-wrapped {border: 1px dashed gray;margin: 0 0.4em 0.5em 0.4em;box-sizing: border-box;padding-bottom: 0.4em;background-color: white;}#sk-container-id-1 div.sk-label label {font-family: monospace;font-weight: bold;display: inline-block;line-height: 1.2em;}#sk-container-id-1 div.sk-label-container {text-align: center;}#sk-container-id-1 div.sk-container {/* jupyter's `normalize.less` sets `[hidden] { display: none; }` but bootstrap.min.css set `[hidden] { display: none !important; }` so we also need the `!important` here to be able to override the default hidden behavior on the sphinx rendered scikit-learn.org. See: https://github.com/scikit-learn/scikit-learn/issues/21755 */display: inline-block !important;position: relative;}#sk-container-id-1 div.sk-text-repr-fallback {display: none;}</style><div id=\"sk-container-id-1\" class=\"sk-top-container\"><div class=\"sk-text-repr-fallback\"><pre>DecisionTreeRegressor()</pre><b>In a Jupyter environment, please rerun this cell to show the HTML representation or trust the notebook. <br />On GitHub, the HTML representation is unable to render, please try loading this page with nbviewer.org.</b></div><div class=\"sk-container\" hidden><div class=\"sk-item\"><div class=\"sk-estimator sk-toggleable\"><input class=\"sk-toggleable__control sk-hidden--visually\" id=\"sk-estimator-id-1\" type=\"checkbox\" checked><label for=\"sk-estimator-id-1\" class=\"sk-toggleable__label sk-toggleable__label-arrow\">DecisionTreeRegressor</label><div class=\"sk-toggleable__content\"><pre>DecisionTreeRegressor()</pre></div></div></div></div></div>"
            ]
          },
          "metadata": {},
          "execution_count": 11
        }
      ]
    },
    {
      "cell_type": "code",
      "source": [
        "#decision trees without anything\n",
        "\n",
        "from sklearn.model_selection import train_test_split, GridSearchCV\n",
        "from sklearn.tree import DecisionTreeRegressor\n",
        "from sklearn.metrics import mean_squared_error, r2_score\n",
        "from sklearn.preprocessing import StandardScaler\n",
        "\n",
        "param_grid = {\n",
        "\n",
        "    'max_depth': [None, 10, 20, 30],\n",
        "    'min_samples_split': [2, 5, 10],\n",
        "    'min_samples_leaf': [1, 2, 4]\n",
        "\n",
        "}\n",
        "\n",
        "# Use GridSearchCV for hyperparameter tuning with cross-validation\n",
        "\n",
        "grid_search = GridSearchCV(estimator=dt_model, param_grid=param_grid, scoring='neg_mean_squared_error', cv=3, verbose=2, n_jobs=-1)\n",
        "\n",
        "grid_search.fit(X_tune, y_tune)\n",
        "best_dt_model = grid_search.best_estimator_\n",
        "\n",
        "# Predict on the test set using the best model\n",
        "\n",
        "y_pred_test = best_dt_model.predict(X_test)\n",
        "\n",
        "# Evaluate the best model on the test set\n",
        "\n",
        "mse_test = mean_squared_error(y_test, y_pred_test)\n",
        "r2_test = r2_score(y_test, y_pred_test)\n",
        "\n",
        "print(f'Mean Squared Error on Test Set: {mse_test}')\n",
        "print(f'R^2 Score on Test Set: {r2_test}')\n",
        "\n",
        "# Print the best parameters\n",
        "\n",
        "print(\"Best Parameters:\", grid_search.best_params_)"
      ],
      "metadata": {
        "colab": {
          "base_uri": "https://localhost:8080/"
        },
        "id": "F2BFXkT-2DgI",
        "outputId": "7489a3e7-e5f5-41c3-e959-a35239e74f3c"
      },
      "execution_count": 12,
      "outputs": [
        {
          "output_type": "stream",
          "name": "stdout",
          "text": [
            "Fitting 3 folds for each of 36 candidates, totalling 108 fits\n",
            "Mean Squared Error on Test Set: 7500147191837.455\n",
            "R^2 Score on Test Set: 0.8132883665089439\n",
            "Best Parameters: {'max_depth': 10, 'min_samples_leaf': 2, 'min_samples_split': 5}\n"
          ]
        }
      ]
    },
    {
      "cell_type": "code",
      "source": [
        "#additional information checking - for accuracy\n",
        "from sklearn.metrics import mean_absolute_error\n",
        "import numpy as np\n",
        "\n",
        "mae_test = mean_absolute_error(y_test, y_pred_test)\n",
        "print(f'Mean Absolute Error on Test Set: {mae_test}')\n",
        "\n",
        "rmse_test = np.sqrt(mse_test)\n",
        "print(f'Root Mean Squared Error on Test Set: {rmse_test}')\n",
        "\n",
        "from sklearn.metrics import explained_variance_score\n",
        "\n",
        "evs_test = explained_variance_score(y_test, y_pred_test)\n",
        "print(f'Explained Variance Score on Test Set: {evs_test}')\n",
        "\n",
        "from sklearn.metrics import median_absolute_error\n",
        "\n",
        "medae_test = median_absolute_error(y_test, y_pred_test)\n",
        "print(f'Median Absolute Error on Test Set: {medae_test}')"
      ],
      "metadata": {
        "colab": {
          "base_uri": "https://localhost:8080/"
        },
        "id": "GAg2S0Y1wMK1",
        "outputId": "8eed3d79-2900-41ed-f371-562a5b8f821e"
      },
      "execution_count": 17,
      "outputs": [
        {
          "output_type": "stream",
          "name": "stdout",
          "text": [
            "Mean Absolute Error on Test Set: 786078.0672755963\n",
            "Root Mean Squared Error on Test Set: 2487812.103836655\n",
            "Explained Variance Score on Test Set: 0.8459350254401661\n",
            "Median Absolute Error on Test Set: 204386.0\n"
          ]
        }
      ]
    },
    {
      "cell_type": "code",
      "source": [
        "#decision trees with feature scaling\n",
        "import pandas as pd\n",
        "from sklearn.feature_extraction.text import TfidfVectorizer\n",
        "from sklearn.model_selection import train_test_split\n",
        "from sklearn.preprocessing import StandardScaler\n",
        "from sklearn.tree import DecisionTreeRegressor\n",
        "from sklearn.metrics import mean_squared_error, r2_score\n",
        "X.columns = X.columns.astype(str)\n",
        "\n",
        "# Split the Data\n",
        "X_train, X_temp, y_train, y_temp = train_test_split(X, y, test_size=0.5, random_state=42)\n",
        "X_tune, X_test, y_tune, y_test = train_test_split(X_temp, y_temp, test_size=0.5, random_state=42)\n",
        "scaler = StandardScaler()\n",
        "X_train_scaled = scaler.fit_transform(X_train)\n",
        "X_tune_scaled = scaler.transform(X_tune)\n",
        "X_test_scaled = scaler.transform(X_test)\n",
        "\n",
        "dt_model = DecisionTreeRegressor()\n",
        "dt_model.fit(X_train_scaled, y_train)\n",
        "\n",
        "y_pred_test = dt_model.predict(X_test_scaled)\n",
        "\n",
        "# Evaluate the model\n",
        "mse_test = mean_squared_error(y_test, y_pred_test)\n",
        "r2_test = r2_score(y_test, y_pred_test)\n",
        "print(f'Mean Squared Error on Test Set: {mse_test}')\n",
        "print(f'R^2 Score on Test Set: {r2_test}')"
      ],
      "metadata": {
        "colab": {
          "base_uri": "https://localhost:8080/"
        },
        "id": "fFhnmT6s2gdF",
        "outputId": "5bb4db64-67ec-4185-fc8e-18bc7f8afe70"
      },
      "execution_count": 13,
      "outputs": [
        {
          "output_type": "stream",
          "name": "stdout",
          "text": [
            "Mean Squared Error on Test Set: 6189209063996.164\n",
            "R^2 Score on Test Set: 0.8459233792619388\n"
          ]
        }
      ]
    },
    {
      "cell_type": "code",
      "source": [
        "#decision trees after pruning\n",
        "dt_model = DecisionTreeRegressor(max_depth=5)\n",
        "dt_model.fit(X_train, y_train)\n",
        "\n",
        "# Make predictions on the test set\n",
        "y_pred = dt_model.predict(X_test)\n",
        "\n",
        "# Evaluate the model\n",
        "mse = mean_squared_error(y_test, y_pred)\n",
        "r2 = r2_score(y_test, y_pred)\n",
        "\n",
        "print(f\"Mean Squared Error on Test Set: {mse}\")\n",
        "print(f\"R^2 Score on Test Set: {r2}\")"
      ],
      "metadata": {
        "colab": {
          "base_uri": "https://localhost:8080/"
        },
        "id": "ny1pZZrE2u-P",
        "outputId": "77d87a85-1e12-48ad-e8a5-d78f81754a67"
      },
      "execution_count": 14,
      "outputs": [
        {
          "output_type": "stream",
          "name": "stdout",
          "text": [
            "Mean Squared Error on Test Set: 9040255821154.988\n",
            "R^2 Score on Test Set: 0.7749482925639285\n"
          ]
        }
      ]
    },
    {
      "cell_type": "code",
      "source": [
        "#random forest without anything\n",
        "import pandas as pd\n",
        "from sklearn.model_selection import train_test_split\n",
        "from sklearn.ensemble import RandomForestRegressor\n",
        "from sklearn.metrics import mean_squared_error, r2_score\n",
        "from sklearn.preprocessing import StandardScaler\n",
        "from sklearn.model_selection import GridSearchCV\n",
        "\n",
        "final_rf_model = RandomForestRegressor(random_state=42, max_depth=10, min_samples_split=2, min_samples_leaf=1)\n",
        "#rf_model = RandomForestRegressor(random_state=42)\n",
        "\n",
        "# Hyperparameter tuning using GridSearchCV\n",
        "param_grid = {\n",
        "    'n_estimators': [50, 100, 150],\n",
        "    'max_depth': [None, 10, 20],\n",
        "    'min_samples_split': [2, 5, 10],\n",
        "    'min_samples_leaf': [1, 2, 4]\n",
        "}\n",
        "\n",
        "grid_search = GridSearchCV(estimator=final_rf_model, param_grid=param_grid, scoring='neg_mean_squared_error', cv=3, verbose=2, n_jobs=-1)\n",
        "grid_search.fit(X_tune, y_tune)\n",
        "\n",
        "# Get the best parameters from the grid search\n",
        "best_params = grid_search.best_params_\n",
        "\n",
        "# Train the Random Forest model with the best parameters\n",
        "final_rf_model = RandomForestRegressor(random_state=42, **best_params)\n",
        "final_rf_model.fit(X_train, y_train)\n",
        "\n",
        "# Make predictions on the test set\n",
        "y_pred = final_rf_model.predict(X_test)\n",
        "\n",
        "# Evaluate the model\n",
        "mse = mean_squared_error(y_test, y_pred)\n",
        "r2 = r2_score(y_test, y_pred)\n",
        "\n",
        "print(f'Mean Squared Error on Test Set: {mse:.3f}')\n",
        "print(f'R^2 Score on Test Set: {r2:.3f}')"
      ],
      "metadata": {
        "colab": {
          "base_uri": "https://localhost:8080/"
        },
        "id": "bNV-wprv3P5v",
        "outputId": "35eaede0-3488-476a-9ae6-3c8ba4b457f2"
      },
      "execution_count": 19,
      "outputs": [
        {
          "output_type": "stream",
          "name": "stdout",
          "text": [
            "Fitting 3 folds for each of 81 candidates, totalling 243 fits\n",
            "Mean Squared Error on Test Set: 2923069363488.454\n",
            "R^2 Score on Test Set: 0.927\n"
          ]
        }
      ]
    },
    {
      "cell_type": "code",
      "source": [
        "# Residual plot for random forest\n",
        "import pandas as pd\n",
        "import seaborn as sns\n",
        "import matplotlib.pyplot as plt\n",
        "\n",
        "residuals = y_test - y_pred\n",
        "plt.figure(figsize=(8, 6))\n",
        "plt.scatter(y_test, residuals, alpha=0.5)\n",
        "plt.xlabel('Actual View Count')\n",
        "plt.ylabel('Residuals')\n",
        "plt.title('Residual Plot')\n",
        "plt.axhline(y=0, color='red', linestyle='--')  # Add a horizontal line at y=0\n",
        "plt.show()"
      ],
      "metadata": {
        "colab": {
          "base_uri": "https://localhost:8080/",
          "height": 564
        },
        "id": "p9l5hnEkQUYQ",
        "outputId": "ad4e1106-d1b0-455c-a091-5b224fc2ab87"
      },
      "execution_count": 22,
      "outputs": [
        {
          "output_type": "display_data",
          "data": {
            "text/plain": [
              "<Figure size 800x600 with 1 Axes>"
            ],
            "image/png": "[encoded data removed]"
          },
          "metadata": {}
        }
      ]
    },
    {
      "cell_type": "code",
      "source": [
        "#XG Boost without tuning\n",
        "import pandas as pd\n",
        "from sklearn.model_selection import train_test_split\n",
        "from xgboost import XGBRegressor\n",
        "from sklearn.metrics import mean_squared_error, r2_score\n",
        "\n",
        "# Define features (X) and target variable (y)\n",
        "x = ['likes', 'dislikes', 'comment_count', 'categoryId','title_frequency_sum','tag_frequency_sum','days_to_trend']\n",
        "y = dataset['view_count']\n",
        "X = dataset[x]\n",
        "\n",
        "# Split the data into train and test sets\n",
        "X_train, X_test, y_train, y_test = train_test_split(X, y, test_size=0.25, random_state=42)\n",
        "\n",
        "# Further split the training set into train and tune sets\n",
        "X_train, X_tune, y_train, y_tune = train_test_split(X_train, y_train, test_size=0.33, random_state=42)\n",
        "\n",
        "# Initialize XGBoost regressor\n",
        "xgb_model = XGBRegressor()\n",
        "\n",
        "# Fit the model to the training data\n",
        "xgb_model.fit(X_train, y_train)\n",
        "\n",
        "# Make predictions on the tune set\n",
        "y_tune_pred = xgb_model.predict(X_tune)\n",
        "\n",
        "# Evaluate the model on the tune set\n",
        "mse_tune = mean_squared_error(y_tune, y_tune_pred)\n",
        "r2_tune = r2_score(y_tune, y_tune_pred)\n",
        "\n",
        "print(f\"Mean Squared Error on Tune Set: {mse_tune}\")\n",
        "print(f\"R^2 Score on Tune Set: {r2_tune}\")\n",
        "\n",
        "# Make predictions on the test set\n",
        "y_test_pred = xgb_model.predict(X_test)\n",
        "\n",
        "# Evaluate the model on the test set\n",
        "mse_test = mean_squared_error(y_test, y_test_pred)\n",
        "r2_test = r2_score(y_test, y_test_pred)\n",
        "\n",
        "print(f\"Mean Squared Error on Test Set: {mse_test}\")\n",
        "print(f\"R^2 Score on Test Set: {r2_test}\")"
      ],
      "metadata": {
        "colab": {
          "base_uri": "https://localhost:8080/"
        },
        "id": "v5LWTVzD4wEb",
        "outputId": "353e8ffa-19dc-4428-9e69-388e0530196e"
      },
      "execution_count": 142,
      "outputs": [
        {
          "output_type": "stream",
          "name": "stdout",
          "text": [
            "Mean Squared Error on Tune Set: 3408888638958.838\n",
            "R^2 Score on Tune Set: 0.9158958895836634\n",
            "Mean Squared Error on Test Set: 3650709620409.7944\n",
            "R^2 Score on Test Set: 0.920137602392218\n"
          ]
        }
      ]
    },
    {
      "cell_type": "code",
      "source": [
        "#XG Boost with tuning\n",
        "import pandas as pd\n",
        "from sklearn.model_selection import train_test_split, GridSearchCV\n",
        "from xgboost import XGBRegressor\n",
        "from sklearn.metrics import mean_squared_error, r2_score\n",
        "\n",
        "\n",
        "# Define features (X) and target variable (y)\n",
        "x = ['likes', 'dislikes', 'comment_count', 'categoryId','title_frequency_sum','tag_frequency_sum','days_to_trend']\n",
        "\n",
        "y = dataset['view_count']\n",
        "X = dataset[x]\n",
        "\n",
        "# Split the data into train and test sets\n",
        "X_train, X_test, y_train, y_test = train_test_split(X, y, test_size=0.25, random_state=42)\n",
        "\n",
        "# Further split the training set into train and tune sets\n",
        "X_train, X_tune, y_train, y_tune = train_test_split(X_train, y_train, test_size=0.33, random_state=42)\n",
        "\n",
        "# Initialize XGBoost regressor\n",
        "xgb_model = XGBRegressor()\n",
        "\n",
        "# Define hyperparameter grid for tuning\n",
        "param_grid = {\n",
        "\n",
        "    'n_estimators': [100, 200, 300],\n",
        "    'learning_rate': [0.01, 0.1, 0.2],\n",
        "    'max_depth': [3, 4, 5],\n",
        "    'subsample': [0.8, 0.9, 1.0],\n",
        "    'colsample_bytree': [0.8, 0.9, 1.0],\n",
        "\n",
        "}\n",
        "\n",
        "# Create GridSearchCV object\n",
        "grid_search = GridSearchCV(estimator=xgb_model, param_grid=param_grid, scoring='neg_mean_squared_error', cv=5)\n",
        "\n",
        "# Fit the grid search to the data\n",
        "grid_search.fit(X_train, y_train)\n",
        "\n",
        "# Get the best parameters from the grid search\n",
        "best_params = grid_search.best_params_\n",
        "\n",
        "# Use the best parameters to create a tuned XGBoost model\n",
        "tuned_xgb_model = XGBRegressor(**best_params)\n",
        "\n",
        "# Fit the tuned model to the training data\n",
        "tuned_xgb_model.fit(X_train, y_train)\n",
        "\n",
        "# Make predictions on the test set\n",
        "y_test_pred = tuned_xgb_model.predict(X_test)\n",
        "\n",
        "# Evaluate the model on the test set\n",
        "mse_test = mean_squared_error(y_test, y_test_pred)\n",
        "r2_test = r2_score(y_test, y_test_pred)\n",
        "\n",
        "print(f\"Best Parameters: {best_params}\")\n",
        "print(f\"Mean Squared Error on Test Set: {mse_test}\")\n",
        "print(f\"R^2 Score on Test Set: {r2_test}\")\n"
      ],
      "metadata": {
        "colab": {
          "base_uri": "https://localhost:8080/"
        },
        "id": "CxwYsz6u5Q_4",
        "outputId": "8cf177f9-a2f2-4121-9e0a-5ab279cf914e"
      },
      "execution_count": 143,
      "outputs": [
        {
          "output_type": "stream",
          "name": "stdout",
          "text": [
            "Best Parameters: {'colsample_bytree': 1.0, 'learning_rate': 0.2, 'max_depth': 5, 'n_estimators': 300, 'subsample': 0.9}\n",
            "Mean Squared Error on Test Set: 3177500918667.48\n",
            "R^2 Score on Test Set: 0.9304894477646157\n"
          ]
        }
      ]
    }
  ]
}